{
 "cells": [
  {
   "cell_type": "markdown",
   "id": "73f5a6b9",
   "metadata": {},
   "source": [
    "# Artic Sea Ice Analysis"
   ]
  },
  {
   "cell_type": "markdown",
   "id": "693300f5",
   "metadata": {},
   "source": [
    "Global temperature increase has been proposed as the cause of several deleterious climatological and weather effects. One such effect is the decline of Arctic sea ice. Sea ice decline has several ramifications, including sea level rise and decreased albedo in regions where ice used to exist (albedo is the fraction of light reflected by a surface). \n",
    "\n",
    "The data is from the Sea Ice Index, Version 3, courtesy of the National Snow and Ice Data Center (NSIDC). This data is freely available from the NSIDC and can be downloaded here: https://nsidc.org/data/G02135/versions/3\n",
    "\n",
    "To illustrate if there is a long-term trend present in Artic sea ice extent, let's analyze the sea ice extent during September of each year. "
   ]
  },
  {
   "cell_type": "code",
   "execution_count": 1,
   "id": "fdb89e09",
   "metadata": {},
   "outputs": [],
   "source": [
    "import cv2 as cv\n",
    "import os\n",
    "import numpy as np\n",
    "import glob\n"
   ]
  },
  {
   "cell_type": "code",
   "execution_count": 2,
   "id": "607ad97a",
   "metadata": {},
   "outputs": [],
   "source": [
    "path = \"Data\\SeaIce\\September\\*.*\"\n",
    "count = 0\n",
    "data = []\n",
    "iceArea1 = []\n",
    "for file in glob.glob(path):\n",
    "    #Let's read each image file\n",
    "    a = cv.imread(file,-1)\n",
    "    #Convert to the appropriate space color\n",
    "    c = cv.cvtColor(a, cv.COLOR_BGR2RGB)\n",
    "    #Calculate the number of white pixels in the image\n",
    "    number_of_white_pix = np.sum(c == 255)\n",
    "    iceArea1.append((number_of_white_pix*25)^2)\n",
    "    count += 1\n",
    "    #cv.imshow('Color image', c)\n",
    "    #wait for 1 second\n",
    "    #k = cv.waitKey(1000)\n",
    "    #cv.destroyAllWindows()"
   ]
  },
  {
   "cell_type": "code",
   "execution_count": 8,
   "id": "cdfd7902",
   "metadata": {},
   "outputs": [
    {
     "data": {
      "text/plain": [
       "list"
      ]
     },
     "execution_count": 8,
     "metadata": {},
     "output_type": "execute_result"
    }
   ],
   "source": [
    "type(iceArea1)"
   ]
  },
  {
   "cell_type": "code",
   "execution_count": 22,
   "id": "1b11dda9",
   "metadata": {},
   "outputs": [
    {
     "data": {
      "text/plain": [
       "array([1979, 1980, 1981, 1982, 1983, 1984, 1985, 1986, 1987, 1988, 1989,\n",
       "       1990, 1991, 1992, 1993, 1994, 1995, 1996, 1997, 1998, 1999, 2000,\n",
       "       2001, 2002, 2003, 2004, 2005, 2006, 2007, 2008, 2009, 2010, 2011,\n",
       "       2012, 2013, 2014, 2015, 2016, 2017, 2018, 2019, 2020, 2021])"
      ]
     },
     "execution_count": 22,
     "metadata": {},
     "output_type": "execute_result"
    }
   ],
   "source": [
    "years = np.arange(1979,2022)\n",
    "years"
   ]
  },
  {
   "cell_type": "markdown",
   "id": "04e49330",
   "metadata": {},
   "source": [
    "Although we can calculate a curve fit directly in Python, let's use the Curve Fitting App from MATLAB to do this"
   ]
  },
  {
   "cell_type": "code",
   "execution_count": 4,
   "id": "736f4641",
   "metadata": {},
   "outputs": [],
   "source": [
    "import matlab.engine"
   ]
  },
  {
   "cell_type": "code",
   "execution_count": 5,
   "id": "68f148db",
   "metadata": {},
   "outputs": [],
   "source": [
    "# Get the MATLAB Engine session that you can use to connect\n",
    "# In MATLAB command prompt type:\n",
    "#  >> matlab.engine.shareEngine\n",
    "#  >> matlab.engine.engineName\n",
    "# ans =\n",
    "#\n",
    "#    'MATLAB_42516'\n",
    "# MAKE SURE TO UPDATE THIS, OTHERWISE IT WON'T CONNECT\n",
    "\n",
    "eng = matlab.engine.connect_matlab('MATLAB_42516')"
   ]
  },
  {
   "cell_type": "code",
   "execution_count": 29,
   "id": "fc1f6804",
   "metadata": {},
   "outputs": [
    {
     "data": {
      "text/plain": [
       "matlab.double([[1979.0],[1980.0],[1981.0],[1982.0],[1983.0],[1984.0],[1985.0],[1986.0],[1987.0],[1988.0],[1989.0],[1990.0],[1991.0],[1992.0],[1993.0],[1994.0],[1995.0],[1996.0],[1997.0],[1998.0],[1999.0],[2000.0],[2001.0],[2002.0],[2003.0],[2004.0],[2005.0],[2006.0],[2007.0],[2008.0],[2009.0],[2010.0],[2011.0],[2012.0],[2013.0],[2014.0],[2015.0],[2016.0],[2017.0],[2018.0],[2019.0],[2020.0],[2021.0]])"
      ]
     },
     "execution_count": 29,
     "metadata": {},
     "output_type": "execute_result"
    }
   ],
   "source": [
    "# Convert the numpy array to the right format \n",
    "yearsfit  = eng.transpose(eng.double(years))\n",
    "yearsfit"
   ]
  },
  {
   "cell_type": "markdown",
   "id": "9c069929",
   "metadata": {},
   "source": [
    "Make sure lists are converted to arrays before attempting a data conversion"
   ]
  },
  {
   "cell_type": "code",
   "execution_count": 30,
   "id": "9745e23e",
   "metadata": {},
   "outputs": [
    {
     "data": {
      "text/plain": [
       "matlab.int32([[833248],[906827],[835202],[859202],[871727],[819973],[800102],[870902],[866248],[868048],[814727],[721273],[758848],[875702],[752027],[835348],[711227],[913202],[779927],[761248],[723448],[731627],[780827],[686473],[710248],[698927],[642602],[682948],[495373],[542102],[618073],[564827],[530473],[414673],[615527],[607727],[536248],[542473],[560548],[555148],[503702],[462902],[575627]])"
      ]
     },
     "execution_count": 30,
     "metadata": {},
     "output_type": "execute_result"
    }
   ],
   "source": [
    "iceAreafit = eng.transpose(np.array(iceArea1))\n",
    "iceAreafit"
   ]
  },
  {
   "cell_type": "markdown",
   "id": "1680ac30",
   "metadata": {},
   "source": [
    "Call the curve fitting app:"
   ]
  },
  {
   "cell_type": "code",
   "execution_count": 31,
   "id": "683e87e8",
   "metadata": {},
   "outputs": [],
   "source": [
    "iceFit = eng.curveFitter(yearsfit,iceAreafit)"
   ]
  },
  {
   "cell_type": "markdown",
   "id": "19574863",
   "metadata": {},
   "source": [
    "Make sure you perform the curve fitting operation in the App. Then export to workspace. Assuming your variable is called 'fittedmodel', obtain the coefficients for the resulting curve fit "
   ]
  },
  {
   "cell_type": "code",
   "execution_count": 54,
   "id": "55382cb4",
   "metadata": {},
   "outputs": [
    {
     "data": {
      "text/plain": [
       "array([[-8.17622131e+04,  1.69384412e+08]])"
      ]
     },
     "execution_count": 54,
     "metadata": {},
     "output_type": "execute_result"
    }
   ],
   "source": [
    "coeffvalues = eng.coeffvalues(eng.workspace['fittedmodel'])\n",
    "coeffvaluesF = np.array(coeffvalues)\n",
    "coeffvaluesF"
   ]
  },
  {
   "cell_type": "markdown",
   "id": "b4beeae4",
   "metadata": {},
   "source": [
    "Another alternative: Generate a function and save it in the same folder where you have your script. \n"
   ]
  },
  {
   "cell_type": "markdown",
   "id": "71bf6bcb",
   "metadata": {},
   "source": [
    "You should notice that it contains a linear model $p1*x + p2$. The coefficients p1 and p2 are stored in fields of the object. In which year does the linear trend predict zero ice area? You can calculate this by setting the linear function to zero $(p1*x + p2 = 0)$ and then solving for the value of x (which, in this case, represents the year when the ice area is predicted to be zero). "
   ]
  },
  {
   "cell_type": "code",
   "execution_count": 53,
   "id": "7d70eb95",
   "metadata": {},
   "outputs": [
    {
     "data": {
      "text/plain": [
       "2071.6710720581063"
      ]
     },
     "execution_count": 53,
     "metadata": {},
     "output_type": "execute_result"
    }
   ],
   "source": [
    "vanishYear = -coeffvaluesF[0,1]/coeffvaluesF[0,0]\n",
    "vanishYear"
   ]
  },
  {
   "cell_type": "markdown",
   "id": "9232468d",
   "metadata": {},
   "source": [
    "*So, if the trend continues, ice in the artic could be gone by year 2072!*"
   ]
  },
  {
   "cell_type": "markdown",
   "id": "9701fc77",
   "metadata": {},
   "source": [
    "## How to do all these with datastores in MATLAB? "
   ]
  },
  {
   "cell_type": "code",
   "execution_count": null,
   "id": "3b66374a",
   "metadata": {},
   "outputs": [],
   "source": [
    "ds_Sep = eng.datastore(\"Data/SeaIce/September\")\n",
    "# copy variable to MATLAB workspace so we can use it\n",
    "eng.workspace[\"ds_SepF\"] = ds_Sep "
   ]
  },
  {
   "cell_type": "code",
   "execution_count": null,
   "id": "baded48c",
   "metadata": {},
   "outputs": [],
   "source": [
    "intermediate = eng.eval(\"ds_SepF.Files\")"
   ]
  },
  {
   "cell_type": "code",
   "execution_count": null,
   "id": "469367c7",
   "metadata": {},
   "outputs": [],
   "source": [
    "NFiles = eng.numel(eng.eval(\"ds_SepF.Files\"))"
   ]
  },
  {
   "cell_type": "code",
   "execution_count": null,
   "id": "72b92c50",
   "metadata": {},
   "outputs": [],
   "source": [
    "iceArea = eng.zeros(NFiles,1)"
   ]
  },
  {
   "cell_type": "code",
   "execution_count": null,
   "id": "786f0464",
   "metadata": {},
   "outputs": [],
   "source": [
    "images = np.empty(int(NFiles), dtype=object)\n",
    "for k in range(0, int(NFiles)):\n",
    "    images[k] = cv.imread(eng.eval(\"ds_SepF.Files\")[k])"
   ]
  },
  {
   "cell_type": "code",
   "execution_count": 16,
   "id": "b2a3968a",
   "metadata": {},
   "outputs": [],
   "source": [
    "# Add here line to call function that calculates \n",
    "# total number of pixels that are not zero"
   ]
  },
  {
   "cell_type": "code",
   "execution_count": null,
   "id": "0b85e36e",
   "metadata": {},
   "outputs": [],
   "source": [
    "#iceFit = eng.curveFitter(yearsfit,iceAreafit)"
   ]
  },
  {
   "cell_type": "code",
   "execution_count": null,
   "id": "2c079933",
   "metadata": {},
   "outputs": [],
   "source": [
    "#coeffvalues = eng.coeffvalues(eng.workspace['fittedmodel'])\n",
    "#coeffvalues"
   ]
  }
 ],
 "metadata": {
  "kernelspec": {
   "display_name": "Python 3 (ipykernel)",
   "language": "python",
   "name": "python3"
  },
  "language_info": {
   "codemirror_mode": {
    "name": "ipython",
    "version": 3
   },
   "file_extension": ".py",
   "mimetype": "text/x-python",
   "name": "python",
   "nbconvert_exporter": "python",
   "pygments_lexer": "ipython3",
   "version": "3.10.4"
  }
 },
 "nbformat": 4,
 "nbformat_minor": 5
}
